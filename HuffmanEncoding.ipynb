{
 "cells": [
  {
   "cell_type": "markdown",
   "metadata": {},
   "source": [
    "As recalled from the Readme, the 3 steps to perform huffman encoding is to:\n",
    "1. Preprocess the input variable to find unique characters along with their frequncy count.\n",
    "2. Create a huffman tree based on the input variables\n",
    "3. Traverse through the tree and assign codes to the individual character from the input variables"
   ]
  },
  {
   "cell_type": "code",
   "execution_count": 1,
   "metadata": {},
   "outputs": [],
   "source": [
    "def calc_freq(smp_str):\n",
    "    # initialize an empty hashmap\n",
    "    freq_map = {}\n",
    "    \n",
    "    # loop through input string\n",
    "    for i in smp_str:\n",
    "        if i in freq_map:\n",
    "            freq_map[i] += 1\n",
    "        else:\n",
    "            freq_map[i] = 1\n",
    "            \n",
    "    # sort hashmap before return\n",
    "    # This part is optional as we will always sort the node list while building huffman tree\n",
    "    freq_map = dict(sorted(freq_map.items(), key=lambda item: item[1]))\n",
    "    \n",
    "    # return the processed hashmap with frequency count\n",
    "    return freq_map"
   ]
  },
  {
   "cell_type": "code",
   "execution_count": 2,
   "metadata": {},
   "outputs": [],
   "source": [
    "# A Huffman Tree Node\n",
    "class node:\n",
    "    def __init__(self, freq, symbol, left=None, right=None):\n",
    "        # frequency of symbol\n",
    "        self.freq = freq\n",
    " \n",
    "        # symbol name (charecter)\n",
    "        self.symbol = symbol\n",
    " \n",
    "        # node left of current node\n",
    "        self.left = left\n",
    " \n",
    "        # node right of current node\n",
    "        self.right = right\n",
    " \n",
    "        # tree direction (0/1)\n",
    "        self.huff = ''"
   ]
  },
  {
   "cell_type": "code",
   "execution_count": 4,
   "metadata": {},
   "outputs": [],
   "source": [
    "class HuffmanTree:\n",
    "    def __init__(self, nodes):\n",
    "        #add properties etc.\n",
    "        self.nodes = nodes\n",
    "        \n",
    "    # build huffman tree function from nodes list\n",
    "    def GenerateTree(self):\n",
    "        while len(self.nodes) > 1:\n",
    "            # sort all the nodes in ascending order\n",
    "            # based on theri frequency\n",
    "            self.nodes = sorted(self.nodes, key=lambda x: x.freq)\n",
    "\n",
    "            # pick 2 smallest nodes\n",
    "            left = self.nodes[0]\n",
    "            right = self.nodes[1]\n",
    "\n",
    "            # assign directional value to these nodes\n",
    "            left.huff = 0\n",
    "            right.huff = 1\n",
    "\n",
    "            # combine the 2 smallest nodes to create\n",
    "            # new node as their parent\n",
    "            newNode = node(left.freq+right.freq, left.symbol+right.symbol, left, right)\n",
    "\n",
    "            # remove the 2 nodes and add their\n",
    "            # parent as new node among others\n",
    "            self.nodes.remove(left)\n",
    "            self.nodes.remove(right)\n",
    "            self.nodes.append(newNode)\n",
    "            \n",
    "    # traverse and  print all edge nodes\n",
    "    def printNodeCodes(self, node, val=''):\n",
    "        # huffman code for current node\n",
    "        newVal = val + str(node.huff)\n",
    "\n",
    "        # if node is not an edge node\n",
    "        # then traverse inside it\n",
    "        if(node.left):\n",
    "            self.printNodeCodes(node.left, newVal)\n",
    "        if(node.right):\n",
    "            self.printNodeCodes(node.right, newVal)\n",
    "\n",
    "        # if node is edge node then\n",
    "        # display its huffman code\n",
    "        if(not node.left and not node.right):\n",
    "            print(f\"{node.symbol} -> {newVal}\")"
   ]
  },
  {
   "cell_type": "markdown",
   "metadata": {},
   "source": [
    "First we will find all unique characters and count the frequency of occurance, we can achieve the following by using a hashmap.\n",
    "\n",
    "The end result should be a table like hashmap that contains all the characters with occurance count."
   ]
  },
  {
   "cell_type": "code",
   "execution_count": 5,
   "metadata": {},
   "outputs": [],
   "source": [
    "# So we will take a random string for example\n",
    "sample_string  = 'A_DEAD_DAD_CEDED_A_BAD_BABE_A_BEADED_ABACA_BED'"
   ]
  },
  {
   "cell_type": "code",
   "execution_count": 6,
   "metadata": {},
   "outputs": [],
   "source": [
    "freq_map = calc_freq(sample_string)"
   ]
  },
  {
   "cell_type": "markdown",
   "metadata": {},
   "source": [
    "Below is the processed hashmap:"
   ]
  },
  {
   "cell_type": "code",
   "execution_count": 7,
   "metadata": {},
   "outputs": [
    {
     "data": {
      "text/plain": [
       "{'C': 2, 'B': 6, 'E': 7, '_': 10, 'D': 10, 'A': 11}"
      ]
     },
     "execution_count": 7,
     "metadata": {},
     "output_type": "execute_result"
    }
   ],
   "source": [
    "freq_map"
   ]
  },
  {
   "cell_type": "markdown",
   "metadata": {},
   "source": [
    "Next we will be preparing the nodes list, as others will call it min heaps or priority list for generating the huffman tree"
   ]
  },
  {
   "cell_type": "code",
   "execution_count": 8,
   "metadata": {},
   "outputs": [],
   "source": [
    "# list containing unused nodes\n",
    "nodes = []\n",
    "\n",
    "# Create leaf nodes for each and every unique characters, along with the frequency of the respective char\n",
    "for symbol in freq_map:\n",
    "    nodes.append(node(freq_map[symbol], symbol))"
   ]
  },
  {
   "cell_type": "markdown",
   "metadata": {},
   "source": [
    "Create an huffman tree object and Generate Tree. "
   ]
  },
  {
   "cell_type": "code",
   "execution_count": 9,
   "metadata": {},
   "outputs": [],
   "source": [
    "HT = HuffmanTree(nodes)"
   ]
  },
  {
   "cell_type": "code",
   "execution_count": 10,
   "metadata": {},
   "outputs": [],
   "source": [
    "HT.GenerateTree()"
   ]
  },
  {
   "cell_type": "markdown",
   "metadata": {},
   "source": [
    "Once completed we can print out the final compressed code for each of the following characters.\n",
    "\n",
    "As expected, the most occurred character will always get the lowest coding."
   ]
  },
  {
   "cell_type": "code",
   "execution_count": 11,
   "metadata": {},
   "outputs": [
    {
     "name": "stdout",
     "output_type": "stream",
     "text": [
      "_ -> 00\n",
      "D -> 01\n",
      "A -> 10\n",
      "E -> 110\n",
      "C -> 1110\n",
      "B -> 1111\n"
     ]
    }
   ],
   "source": [
    "HT.printNodeCodes(HT.nodes[0])"
   ]
  },
  {
   "cell_type": "markdown",
   "metadata": {},
   "source": [
    "Time complexity: \n",
    "$O(n \\log n)$"
   ]
  }
 ],
 "metadata": {
  "kernelspec": {
   "display_name": "Python 3",
   "language": "python",
   "name": "python3"
  },
  "language_info": {
   "codemirror_mode": {
    "name": "ipython",
    "version": 3
   },
   "file_extension": ".py",
   "mimetype": "text/x-python",
   "name": "python",
   "nbconvert_exporter": "python",
   "pygments_lexer": "ipython3",
   "version": "3.8.5"
  }
 },
 "nbformat": 4,
 "nbformat_minor": 4
}
